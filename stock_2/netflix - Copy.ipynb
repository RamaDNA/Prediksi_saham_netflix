{
 "cells": [
  {
   "cell_type": "code",
   "execution_count": 1,
   "id": "e58f9b9c",
   "metadata": {},
   "outputs": [],
   "source": [
    "import pandas as pd\n",
    "import numpy as np\n",
    "import matplotlib.pyplot as plt\n",
    "import seaborn as sns\n",
    "from scipy import stats\n",
    "\n",
    "\n",
    "#decision Tree Regression machine learning\n",
    "from sklearn.tree import DecisionTreeRegressor\n",
    "#linear regression machine learning\n",
    "from sklearn.linear_model import LinearRegression\n",
    "#for labeling\n",
    "from sklearn.preprocessing import LabelEncoder\n",
    "from sklearn.preprocessing import MinMaxScaler\n",
    "\n",
    "#for MAE mean absolute error\n",
    "from sklearn.metrics import mean_absolute_error\n",
    "\n",
    "#for RMSE root mean \n",
    "from sklearn.metrics import mean_squared_error"
   ]
  },
  {
   "cell_type": "code",
   "execution_count": 2,
   "id": "51b9a56f",
   "metadata": {},
   "outputs": [],
   "source": [
    "df = pd.read_csv(\"NFLX Historical data.csv\")"
   ]
  },
  {
   "cell_type": "code",
   "execution_count": 3,
   "id": "0ed0ef89",
   "metadata": {},
   "outputs": [
    {
     "name": "stdout",
     "output_type": "stream",
     "text": [
      "<class 'pandas.core.frame.DataFrame'>\n",
      "RangeIndex: 3334 entries, 0 to 3333\n",
      "Data columns (total 7 columns):\n",
      " #   Column    Non-Null Count  Dtype  \n",
      "---  ------    --------------  -----  \n",
      " 0   Date      3334 non-null   object \n",
      " 1   Price     3334 non-null   float64\n",
      " 2   Open      3334 non-null   float64\n",
      " 3   High      3334 non-null   float64\n",
      " 4   Low       3334 non-null   float64\n",
      " 5   Vol.      3334 non-null   object \n",
      " 6   Change %  3334 non-null   object \n",
      "dtypes: float64(4), object(3)\n",
      "memory usage: 182.5+ KB\n"
     ]
    }
   ],
   "source": [
    "df.info()"
   ]
  },
  {
   "cell_type": "markdown",
   "id": "38a5fdcb",
   "metadata": {},
   "source": [
    "### Data dimulai dari tanggal 4 januari 2010 - 30 maret 2023"
   ]
  },
  {
   "cell_type": "code",
   "execution_count": 4,
   "id": "769928f9",
   "metadata": {},
   "outputs": [
    {
     "data": {
      "text/html": [
       "<div>\n",
       "<style scoped>\n",
       "    .dataframe tbody tr th:only-of-type {\n",
       "        vertical-align: middle;\n",
       "    }\n",
       "\n",
       "    .dataframe tbody tr th {\n",
       "        vertical-align: top;\n",
       "    }\n",
       "\n",
       "    .dataframe thead th {\n",
       "        text-align: right;\n",
       "    }\n",
       "</style>\n",
       "<table border=\"1\" class=\"dataframe\">\n",
       "  <thead>\n",
       "    <tr style=\"text-align: right;\">\n",
       "      <th></th>\n",
       "      <th>Date</th>\n",
       "      <th>Price</th>\n",
       "      <th>Open</th>\n",
       "      <th>High</th>\n",
       "      <th>Low</th>\n",
       "      <th>Vol.</th>\n",
       "      <th>Change %</th>\n",
       "    </tr>\n",
       "  </thead>\n",
       "  <tbody>\n",
       "    <tr>\n",
       "      <th>0</th>\n",
       "      <td>03/30/2023</td>\n",
       "      <td>338.43</td>\n",
       "      <td>340.27</td>\n",
       "      <td>343.29</td>\n",
       "      <td>335.30</td>\n",
       "      <td>7.12M</td>\n",
       "      <td>1.93%</td>\n",
       "    </tr>\n",
       "    <tr>\n",
       "      <th>1</th>\n",
       "      <td>03/29/2023</td>\n",
       "      <td>332.03</td>\n",
       "      <td>326.29</td>\n",
       "      <td>332.85</td>\n",
       "      <td>325.73</td>\n",
       "      <td>6.29M</td>\n",
       "      <td>2.63%</td>\n",
       "    </tr>\n",
       "    <tr>\n",
       "      <th>2</th>\n",
       "      <td>03/28/2023</td>\n",
       "      <td>323.52</td>\n",
       "      <td>326.06</td>\n",
       "      <td>333.32</td>\n",
       "      <td>321.28</td>\n",
       "      <td>6.48M</td>\n",
       "      <td>-1.26%</td>\n",
       "    </tr>\n",
       "    <tr>\n",
       "      <th>3</th>\n",
       "      <td>03/27/2023</td>\n",
       "      <td>327.66</td>\n",
       "      <td>327.55</td>\n",
       "      <td>336.44</td>\n",
       "      <td>324.41</td>\n",
       "      <td>8.62M</td>\n",
       "      <td>-0.22%</td>\n",
       "    </tr>\n",
       "    <tr>\n",
       "      <th>4</th>\n",
       "      <td>03/24/2023</td>\n",
       "      <td>328.39</td>\n",
       "      <td>320.63</td>\n",
       "      <td>331.83</td>\n",
       "      <td>320.63</td>\n",
       "      <td>13.00M</td>\n",
       "      <td>2.50%</td>\n",
       "    </tr>\n",
       "  </tbody>\n",
       "</table>\n",
       "</div>"
      ],
      "text/plain": [
       "         Date   Price    Open    High     Low    Vol. Change %\n",
       "0  03/30/2023  338.43  340.27  343.29  335.30   7.12M    1.93%\n",
       "1  03/29/2023  332.03  326.29  332.85  325.73   6.29M    2.63%\n",
       "2  03/28/2023  323.52  326.06  333.32  321.28   6.48M   -1.26%\n",
       "3  03/27/2023  327.66  327.55  336.44  324.41   8.62M   -0.22%\n",
       "4  03/24/2023  328.39  320.63  331.83  320.63  13.00M    2.50%"
      ]
     },
     "execution_count": 4,
     "metadata": {},
     "output_type": "execute_result"
    }
   ],
   "source": [
    "df.head()"
   ]
  },
  {
   "cell_type": "code",
   "execution_count": 5,
   "id": "0e736534",
   "metadata": {},
   "outputs": [
    {
     "data": {
      "text/html": [
       "<div>\n",
       "<style scoped>\n",
       "    .dataframe tbody tr th:only-of-type {\n",
       "        vertical-align: middle;\n",
       "    }\n",
       "\n",
       "    .dataframe tbody tr th {\n",
       "        vertical-align: top;\n",
       "    }\n",
       "\n",
       "    .dataframe thead th {\n",
       "        text-align: right;\n",
       "    }\n",
       "</style>\n",
       "<table border=\"1\" class=\"dataframe\">\n",
       "  <thead>\n",
       "    <tr style=\"text-align: right;\">\n",
       "      <th></th>\n",
       "      <th>Date</th>\n",
       "      <th>Price</th>\n",
       "      <th>Open</th>\n",
       "      <th>High</th>\n",
       "      <th>Low</th>\n",
       "      <th>Vol.</th>\n",
       "      <th>Change %</th>\n",
       "    </tr>\n",
       "  </thead>\n",
       "  <tbody>\n",
       "    <tr>\n",
       "      <th>3329</th>\n",
       "      <td>01/08/2010</td>\n",
       "      <td>7.61</td>\n",
       "      <td>7.50</td>\n",
       "      <td>7.74</td>\n",
       "      <td>7.47</td>\n",
       "      <td>8.18M</td>\n",
       "      <td>1.60%</td>\n",
       "    </tr>\n",
       "    <tr>\n",
       "      <th>3330</th>\n",
       "      <td>01/07/2010</td>\n",
       "      <td>7.49</td>\n",
       "      <td>7.73</td>\n",
       "      <td>7.76</td>\n",
       "      <td>7.46</td>\n",
       "      <td>9.96M</td>\n",
       "      <td>-1.71%</td>\n",
       "    </tr>\n",
       "    <tr>\n",
       "      <th>3331</th>\n",
       "      <td>01/06/2010</td>\n",
       "      <td>7.62</td>\n",
       "      <td>7.36</td>\n",
       "      <td>7.67</td>\n",
       "      <td>7.20</td>\n",
       "      <td>23.29M</td>\n",
       "      <td>3.53%</td>\n",
       "    </tr>\n",
       "    <tr>\n",
       "      <th>3332</th>\n",
       "      <td>01/05/2010</td>\n",
       "      <td>7.36</td>\n",
       "      <td>7.65</td>\n",
       "      <td>7.66</td>\n",
       "      <td>7.26</td>\n",
       "      <td>23.75M</td>\n",
       "      <td>-3.66%</td>\n",
       "    </tr>\n",
       "    <tr>\n",
       "      <th>3333</th>\n",
       "      <td>01/04/2010</td>\n",
       "      <td>7.64</td>\n",
       "      <td>7.93</td>\n",
       "      <td>7.96</td>\n",
       "      <td>7.57</td>\n",
       "      <td>17.24M</td>\n",
       "      <td>-2.92%</td>\n",
       "    </tr>\n",
       "  </tbody>\n",
       "</table>\n",
       "</div>"
      ],
      "text/plain": [
       "            Date  Price  Open  High   Low    Vol. Change %\n",
       "3329  01/08/2010   7.61  7.50  7.74  7.47   8.18M    1.60%\n",
       "3330  01/07/2010   7.49  7.73  7.76  7.46   9.96M   -1.71%\n",
       "3331  01/06/2010   7.62  7.36  7.67  7.20  23.29M    3.53%\n",
       "3332  01/05/2010   7.36  7.65  7.66  7.26  23.75M   -3.66%\n",
       "3333  01/04/2010   7.64  7.93  7.96  7.57  17.24M   -2.92%"
      ]
     },
     "execution_count": 5,
     "metadata": {},
     "output_type": "execute_result"
    }
   ],
   "source": [
    "df.tail()"
   ]
  },
  {
   "cell_type": "markdown",
   "id": "24f0c7bf",
   "metadata": {},
   "source": [
    "### Select data drop Vol. dan change column"
   ]
  },
  {
   "cell_type": "code",
   "execution_count": 6,
   "id": "2412bc9d",
   "metadata": {},
   "outputs": [],
   "source": [
    "df.drop(columns =['Vol.','Change %'],axis=1,inplace = True)"
   ]
  },
  {
   "cell_type": "code",
   "execution_count": 7,
   "id": "adddc4ef",
   "metadata": {},
   "outputs": [
    {
     "data": {
      "text/html": [
       "<div>\n",
       "<style scoped>\n",
       "    .dataframe tbody tr th:only-of-type {\n",
       "        vertical-align: middle;\n",
       "    }\n",
       "\n",
       "    .dataframe tbody tr th {\n",
       "        vertical-align: top;\n",
       "    }\n",
       "\n",
       "    .dataframe thead th {\n",
       "        text-align: right;\n",
       "    }\n",
       "</style>\n",
       "<table border=\"1\" class=\"dataframe\">\n",
       "  <thead>\n",
       "    <tr style=\"text-align: right;\">\n",
       "      <th></th>\n",
       "      <th>Date</th>\n",
       "      <th>Price</th>\n",
       "      <th>Open</th>\n",
       "      <th>High</th>\n",
       "      <th>Low</th>\n",
       "    </tr>\n",
       "  </thead>\n",
       "  <tbody>\n",
       "    <tr>\n",
       "      <th>0</th>\n",
       "      <td>03/30/2023</td>\n",
       "      <td>338.43</td>\n",
       "      <td>340.27</td>\n",
       "      <td>343.29</td>\n",
       "      <td>335.30</td>\n",
       "    </tr>\n",
       "    <tr>\n",
       "      <th>1</th>\n",
       "      <td>03/29/2023</td>\n",
       "      <td>332.03</td>\n",
       "      <td>326.29</td>\n",
       "      <td>332.85</td>\n",
       "      <td>325.73</td>\n",
       "    </tr>\n",
       "    <tr>\n",
       "      <th>2</th>\n",
       "      <td>03/28/2023</td>\n",
       "      <td>323.52</td>\n",
       "      <td>326.06</td>\n",
       "      <td>333.32</td>\n",
       "      <td>321.28</td>\n",
       "    </tr>\n",
       "    <tr>\n",
       "      <th>3</th>\n",
       "      <td>03/27/2023</td>\n",
       "      <td>327.66</td>\n",
       "      <td>327.55</td>\n",
       "      <td>336.44</td>\n",
       "      <td>324.41</td>\n",
       "    </tr>\n",
       "    <tr>\n",
       "      <th>4</th>\n",
       "      <td>03/24/2023</td>\n",
       "      <td>328.39</td>\n",
       "      <td>320.63</td>\n",
       "      <td>331.83</td>\n",
       "      <td>320.63</td>\n",
       "    </tr>\n",
       "  </tbody>\n",
       "</table>\n",
       "</div>"
      ],
      "text/plain": [
       "         Date   Price    Open    High     Low\n",
       "0  03/30/2023  338.43  340.27  343.29  335.30\n",
       "1  03/29/2023  332.03  326.29  332.85  325.73\n",
       "2  03/28/2023  323.52  326.06  333.32  321.28\n",
       "3  03/27/2023  327.66  327.55  336.44  324.41\n",
       "4  03/24/2023  328.39  320.63  331.83  320.63"
      ]
     },
     "execution_count": 7,
     "metadata": {},
     "output_type": "execute_result"
    }
   ],
   "source": [
    "df.head()"
   ]
  },
  {
   "cell_type": "markdown",
   "id": "e070dc5d",
   "metadata": {},
   "source": [
    "### preprocessing drop missing,duplicates, probably normalisasi"
   ]
  },
  {
   "cell_type": "code",
   "execution_count": 8,
   "id": "e30623a6",
   "metadata": {},
   "outputs": [],
   "source": [
    "df.dropna(inplace = True)"
   ]
  },
  {
   "cell_type": "code",
   "execution_count": 9,
   "id": "b2906c1d",
   "metadata": {},
   "outputs": [],
   "source": [
    "df.drop_duplicates(inplace = True)"
   ]
  },
  {
   "cell_type": "code",
   "execution_count": 10,
   "id": "40262f66",
   "metadata": {},
   "outputs": [
    {
     "data": {
      "text/html": [
       "<div>\n",
       "<style scoped>\n",
       "    .dataframe tbody tr th:only-of-type {\n",
       "        vertical-align: middle;\n",
       "    }\n",
       "\n",
       "    .dataframe tbody tr th {\n",
       "        vertical-align: top;\n",
       "    }\n",
       "\n",
       "    .dataframe thead th {\n",
       "        text-align: right;\n",
       "    }\n",
       "</style>\n",
       "<table border=\"1\" class=\"dataframe\">\n",
       "  <thead>\n",
       "    <tr style=\"text-align: right;\">\n",
       "      <th></th>\n",
       "      <th>Date</th>\n",
       "      <th>Price</th>\n",
       "      <th>Open</th>\n",
       "      <th>High</th>\n",
       "      <th>Low</th>\n",
       "    </tr>\n",
       "  </thead>\n",
       "  <tbody>\n",
       "    <tr>\n",
       "      <th>0</th>\n",
       "      <td>03/30/2023</td>\n",
       "      <td>338.43</td>\n",
       "      <td>340.27</td>\n",
       "      <td>343.29</td>\n",
       "      <td>335.30</td>\n",
       "    </tr>\n",
       "    <tr>\n",
       "      <th>1</th>\n",
       "      <td>03/29/2023</td>\n",
       "      <td>332.03</td>\n",
       "      <td>326.29</td>\n",
       "      <td>332.85</td>\n",
       "      <td>325.73</td>\n",
       "    </tr>\n",
       "    <tr>\n",
       "      <th>2</th>\n",
       "      <td>03/28/2023</td>\n",
       "      <td>323.52</td>\n",
       "      <td>326.06</td>\n",
       "      <td>333.32</td>\n",
       "      <td>321.28</td>\n",
       "    </tr>\n",
       "    <tr>\n",
       "      <th>3</th>\n",
       "      <td>03/27/2023</td>\n",
       "      <td>327.66</td>\n",
       "      <td>327.55</td>\n",
       "      <td>336.44</td>\n",
       "      <td>324.41</td>\n",
       "    </tr>\n",
       "    <tr>\n",
       "      <th>4</th>\n",
       "      <td>03/24/2023</td>\n",
       "      <td>328.39</td>\n",
       "      <td>320.63</td>\n",
       "      <td>331.83</td>\n",
       "      <td>320.63</td>\n",
       "    </tr>\n",
       "  </tbody>\n",
       "</table>\n",
       "</div>"
      ],
      "text/plain": [
       "         Date   Price    Open    High     Low\n",
       "0  03/30/2023  338.43  340.27  343.29  335.30\n",
       "1  03/29/2023  332.03  326.29  332.85  325.73\n",
       "2  03/28/2023  323.52  326.06  333.32  321.28\n",
       "3  03/27/2023  327.66  327.55  336.44  324.41\n",
       "4  03/24/2023  328.39  320.63  331.83  320.63"
      ]
     },
     "execution_count": 10,
     "metadata": {},
     "output_type": "execute_result"
    }
   ],
   "source": [
    "df.head()"
   ]
  },
  {
   "cell_type": "code",
   "execution_count": 11,
   "id": "d14d14b7",
   "metadata": {},
   "outputs": [
    {
     "name": "stdout",
     "output_type": "stream",
     "text": [
      "finish\n"
     ]
    }
   ],
   "source": [
    "#create new columns\n",
    "new_index = []\n",
    "for x in df.index:\n",
    "    new_index.append(x)\n",
    "print(\"finish\")"
   ]
  },
  {
   "cell_type": "code",
   "execution_count": 12,
   "id": "917fa438",
   "metadata": {},
   "outputs": [],
   "source": [
    "#reverse columns\n",
    "new_index.sort(reverse=True)"
   ]
  },
  {
   "cell_type": "code",
   "execution_count": 13,
   "id": "8e6312cf",
   "metadata": {},
   "outputs": [],
   "source": [
    "df['index'] = new_index"
   ]
  },
  {
   "cell_type": "code",
   "execution_count": 14,
   "id": "3ef18bb7",
   "metadata": {},
   "outputs": [
    {
     "data": {
      "text/html": [
       "<div>\n",
       "<style scoped>\n",
       "    .dataframe tbody tr th:only-of-type {\n",
       "        vertical-align: middle;\n",
       "    }\n",
       "\n",
       "    .dataframe tbody tr th {\n",
       "        vertical-align: top;\n",
       "    }\n",
       "\n",
       "    .dataframe thead th {\n",
       "        text-align: right;\n",
       "    }\n",
       "</style>\n",
       "<table border=\"1\" class=\"dataframe\">\n",
       "  <thead>\n",
       "    <tr style=\"text-align: right;\">\n",
       "      <th></th>\n",
       "      <th>Date</th>\n",
       "      <th>Price</th>\n",
       "      <th>Open</th>\n",
       "      <th>High</th>\n",
       "      <th>Low</th>\n",
       "      <th>index</th>\n",
       "    </tr>\n",
       "  </thead>\n",
       "  <tbody>\n",
       "    <tr>\n",
       "      <th>0</th>\n",
       "      <td>03/30/2023</td>\n",
       "      <td>338.43</td>\n",
       "      <td>340.27</td>\n",
       "      <td>343.29</td>\n",
       "      <td>335.30</td>\n",
       "      <td>3333</td>\n",
       "    </tr>\n",
       "    <tr>\n",
       "      <th>1</th>\n",
       "      <td>03/29/2023</td>\n",
       "      <td>332.03</td>\n",
       "      <td>326.29</td>\n",
       "      <td>332.85</td>\n",
       "      <td>325.73</td>\n",
       "      <td>3332</td>\n",
       "    </tr>\n",
       "    <tr>\n",
       "      <th>2</th>\n",
       "      <td>03/28/2023</td>\n",
       "      <td>323.52</td>\n",
       "      <td>326.06</td>\n",
       "      <td>333.32</td>\n",
       "      <td>321.28</td>\n",
       "      <td>3331</td>\n",
       "    </tr>\n",
       "    <tr>\n",
       "      <th>3</th>\n",
       "      <td>03/27/2023</td>\n",
       "      <td>327.66</td>\n",
       "      <td>327.55</td>\n",
       "      <td>336.44</td>\n",
       "      <td>324.41</td>\n",
       "      <td>3330</td>\n",
       "    </tr>\n",
       "    <tr>\n",
       "      <th>4</th>\n",
       "      <td>03/24/2023</td>\n",
       "      <td>328.39</td>\n",
       "      <td>320.63</td>\n",
       "      <td>331.83</td>\n",
       "      <td>320.63</td>\n",
       "      <td>3329</td>\n",
       "    </tr>\n",
       "  </tbody>\n",
       "</table>\n",
       "</div>"
      ],
      "text/plain": [
       "         Date   Price    Open    High     Low  index\n",
       "0  03/30/2023  338.43  340.27  343.29  335.30   3333\n",
       "1  03/29/2023  332.03  326.29  332.85  325.73   3332\n",
       "2  03/28/2023  323.52  326.06  333.32  321.28   3331\n",
       "3  03/27/2023  327.66  327.55  336.44  324.41   3330\n",
       "4  03/24/2023  328.39  320.63  331.83  320.63   3329"
      ]
     },
     "execution_count": 14,
     "metadata": {},
     "output_type": "execute_result"
    }
   ],
   "source": [
    "df.head()"
   ]
  },
  {
   "cell_type": "code",
   "execution_count": 15,
   "id": "b7a9ffa7",
   "metadata": {},
   "outputs": [],
   "source": [
    "df = df.set_index('index')"
   ]
  },
  {
   "cell_type": "code",
   "execution_count": 16,
   "id": "ebb20c70",
   "metadata": {},
   "outputs": [
    {
     "data": {
      "text/html": [
       "<div>\n",
       "<style scoped>\n",
       "    .dataframe tbody tr th:only-of-type {\n",
       "        vertical-align: middle;\n",
       "    }\n",
       "\n",
       "    .dataframe tbody tr th {\n",
       "        vertical-align: top;\n",
       "    }\n",
       "\n",
       "    .dataframe thead th {\n",
       "        text-align: right;\n",
       "    }\n",
       "</style>\n",
       "<table border=\"1\" class=\"dataframe\">\n",
       "  <thead>\n",
       "    <tr style=\"text-align: right;\">\n",
       "      <th></th>\n",
       "      <th>Date</th>\n",
       "      <th>Price</th>\n",
       "      <th>Open</th>\n",
       "      <th>High</th>\n",
       "      <th>Low</th>\n",
       "    </tr>\n",
       "    <tr>\n",
       "      <th>index</th>\n",
       "      <th></th>\n",
       "      <th></th>\n",
       "      <th></th>\n",
       "      <th></th>\n",
       "      <th></th>\n",
       "    </tr>\n",
       "  </thead>\n",
       "  <tbody>\n",
       "    <tr>\n",
       "      <th>3333</th>\n",
       "      <td>03/30/2023</td>\n",
       "      <td>338.43</td>\n",
       "      <td>340.27</td>\n",
       "      <td>343.29</td>\n",
       "      <td>335.30</td>\n",
       "    </tr>\n",
       "    <tr>\n",
       "      <th>3332</th>\n",
       "      <td>03/29/2023</td>\n",
       "      <td>332.03</td>\n",
       "      <td>326.29</td>\n",
       "      <td>332.85</td>\n",
       "      <td>325.73</td>\n",
       "    </tr>\n",
       "    <tr>\n",
       "      <th>3331</th>\n",
       "      <td>03/28/2023</td>\n",
       "      <td>323.52</td>\n",
       "      <td>326.06</td>\n",
       "      <td>333.32</td>\n",
       "      <td>321.28</td>\n",
       "    </tr>\n",
       "    <tr>\n",
       "      <th>3330</th>\n",
       "      <td>03/27/2023</td>\n",
       "      <td>327.66</td>\n",
       "      <td>327.55</td>\n",
       "      <td>336.44</td>\n",
       "      <td>324.41</td>\n",
       "    </tr>\n",
       "    <tr>\n",
       "      <th>3329</th>\n",
       "      <td>03/24/2023</td>\n",
       "      <td>328.39</td>\n",
       "      <td>320.63</td>\n",
       "      <td>331.83</td>\n",
       "      <td>320.63</td>\n",
       "    </tr>\n",
       "  </tbody>\n",
       "</table>\n",
       "</div>"
      ],
      "text/plain": [
       "             Date   Price    Open    High     Low\n",
       "index                                            \n",
       "3333   03/30/2023  338.43  340.27  343.29  335.30\n",
       "3332   03/29/2023  332.03  326.29  332.85  325.73\n",
       "3331   03/28/2023  323.52  326.06  333.32  321.28\n",
       "3330   03/27/2023  327.66  327.55  336.44  324.41\n",
       "3329   03/24/2023  328.39  320.63  331.83  320.63"
      ]
     },
     "execution_count": 16,
     "metadata": {},
     "output_type": "execute_result"
    }
   ],
   "source": [
    "df.head()"
   ]
  },
  {
   "cell_type": "code",
   "execution_count": 17,
   "id": "e5abdc66",
   "metadata": {},
   "outputs": [],
   "source": [
    "df = df.rename_axis(None) #rename index become none"
   ]
  },
  {
   "cell_type": "code",
   "execution_count": 18,
   "id": "d976ca6e",
   "metadata": {
    "scrolled": true
   },
   "outputs": [
    {
     "data": {
      "text/html": [
       "<div>\n",
       "<style scoped>\n",
       "    .dataframe tbody tr th:only-of-type {\n",
       "        vertical-align: middle;\n",
       "    }\n",
       "\n",
       "    .dataframe tbody tr th {\n",
       "        vertical-align: top;\n",
       "    }\n",
       "\n",
       "    .dataframe thead th {\n",
       "        text-align: right;\n",
       "    }\n",
       "</style>\n",
       "<table border=\"1\" class=\"dataframe\">\n",
       "  <thead>\n",
       "    <tr style=\"text-align: right;\">\n",
       "      <th></th>\n",
       "      <th>Date</th>\n",
       "      <th>Price</th>\n",
       "      <th>Open</th>\n",
       "      <th>High</th>\n",
       "      <th>Low</th>\n",
       "    </tr>\n",
       "  </thead>\n",
       "  <tbody>\n",
       "    <tr>\n",
       "      <th>3333</th>\n",
       "      <td>03/30/2023</td>\n",
       "      <td>338.43</td>\n",
       "      <td>340.27</td>\n",
       "      <td>343.29</td>\n",
       "      <td>335.30</td>\n",
       "    </tr>\n",
       "    <tr>\n",
       "      <th>3332</th>\n",
       "      <td>03/29/2023</td>\n",
       "      <td>332.03</td>\n",
       "      <td>326.29</td>\n",
       "      <td>332.85</td>\n",
       "      <td>325.73</td>\n",
       "    </tr>\n",
       "    <tr>\n",
       "      <th>3331</th>\n",
       "      <td>03/28/2023</td>\n",
       "      <td>323.52</td>\n",
       "      <td>326.06</td>\n",
       "      <td>333.32</td>\n",
       "      <td>321.28</td>\n",
       "    </tr>\n",
       "    <tr>\n",
       "      <th>3330</th>\n",
       "      <td>03/27/2023</td>\n",
       "      <td>327.66</td>\n",
       "      <td>327.55</td>\n",
       "      <td>336.44</td>\n",
       "      <td>324.41</td>\n",
       "    </tr>\n",
       "    <tr>\n",
       "      <th>3329</th>\n",
       "      <td>03/24/2023</td>\n",
       "      <td>328.39</td>\n",
       "      <td>320.63</td>\n",
       "      <td>331.83</td>\n",
       "      <td>320.63</td>\n",
       "    </tr>\n",
       "  </tbody>\n",
       "</table>\n",
       "</div>"
      ],
      "text/plain": [
       "            Date   Price    Open    High     Low\n",
       "3333  03/30/2023  338.43  340.27  343.29  335.30\n",
       "3332  03/29/2023  332.03  326.29  332.85  325.73\n",
       "3331  03/28/2023  323.52  326.06  333.32  321.28\n",
       "3330  03/27/2023  327.66  327.55  336.44  324.41\n",
       "3329  03/24/2023  328.39  320.63  331.83  320.63"
      ]
     },
     "execution_count": 18,
     "metadata": {},
     "output_type": "execute_result"
    }
   ],
   "source": [
    "df.head()"
   ]
  },
  {
   "cell_type": "code",
   "execution_count": null,
   "id": "b549c559",
   "metadata": {},
   "outputs": [],
   "source": []
  },
  {
   "cell_type": "code",
   "execution_count": 19,
   "id": "75c756cf",
   "metadata": {},
   "outputs": [],
   "source": [
    "df = df.sort_index(ascending = True)"
   ]
  },
  {
   "cell_type": "code",
   "execution_count": 20,
   "id": "de8c883d",
   "metadata": {},
   "outputs": [
    {
     "data": {
      "text/html": [
       "<div>\n",
       "<style scoped>\n",
       "    .dataframe tbody tr th:only-of-type {\n",
       "        vertical-align: middle;\n",
       "    }\n",
       "\n",
       "    .dataframe tbody tr th {\n",
       "        vertical-align: top;\n",
       "    }\n",
       "\n",
       "    .dataframe thead th {\n",
       "        text-align: right;\n",
       "    }\n",
       "</style>\n",
       "<table border=\"1\" class=\"dataframe\">\n",
       "  <thead>\n",
       "    <tr style=\"text-align: right;\">\n",
       "      <th></th>\n",
       "      <th>Date</th>\n",
       "      <th>Price</th>\n",
       "      <th>Open</th>\n",
       "      <th>High</th>\n",
       "      <th>Low</th>\n",
       "    </tr>\n",
       "  </thead>\n",
       "  <tbody>\n",
       "    <tr>\n",
       "      <th>0</th>\n",
       "      <td>01/04/2010</td>\n",
       "      <td>7.64</td>\n",
       "      <td>7.93</td>\n",
       "      <td>7.96</td>\n",
       "      <td>7.57</td>\n",
       "    </tr>\n",
       "    <tr>\n",
       "      <th>1</th>\n",
       "      <td>01/05/2010</td>\n",
       "      <td>7.36</td>\n",
       "      <td>7.65</td>\n",
       "      <td>7.66</td>\n",
       "      <td>7.26</td>\n",
       "    </tr>\n",
       "    <tr>\n",
       "      <th>2</th>\n",
       "      <td>01/06/2010</td>\n",
       "      <td>7.62</td>\n",
       "      <td>7.36</td>\n",
       "      <td>7.67</td>\n",
       "      <td>7.20</td>\n",
       "    </tr>\n",
       "    <tr>\n",
       "      <th>3</th>\n",
       "      <td>01/07/2010</td>\n",
       "      <td>7.49</td>\n",
       "      <td>7.73</td>\n",
       "      <td>7.76</td>\n",
       "      <td>7.46</td>\n",
       "    </tr>\n",
       "    <tr>\n",
       "      <th>4</th>\n",
       "      <td>01/08/2010</td>\n",
       "      <td>7.61</td>\n",
       "      <td>7.50</td>\n",
       "      <td>7.74</td>\n",
       "      <td>7.47</td>\n",
       "    </tr>\n",
       "  </tbody>\n",
       "</table>\n",
       "</div>"
      ],
      "text/plain": [
       "         Date  Price  Open  High   Low\n",
       "0  01/04/2010   7.64  7.93  7.96  7.57\n",
       "1  01/05/2010   7.36  7.65  7.66  7.26\n",
       "2  01/06/2010   7.62  7.36  7.67  7.20\n",
       "3  01/07/2010   7.49  7.73  7.76  7.46\n",
       "4  01/08/2010   7.61  7.50  7.74  7.47"
      ]
     },
     "execution_count": 20,
     "metadata": {},
     "output_type": "execute_result"
    }
   ],
   "source": [
    "df.head()"
   ]
  },
  {
   "cell_type": "code",
   "execution_count": 21,
   "id": "65c2d68c",
   "metadata": {},
   "outputs": [
    {
     "data": {
      "text/html": [
       "<div>\n",
       "<style scoped>\n",
       "    .dataframe tbody tr th:only-of-type {\n",
       "        vertical-align: middle;\n",
       "    }\n",
       "\n",
       "    .dataframe tbody tr th {\n",
       "        vertical-align: top;\n",
       "    }\n",
       "\n",
       "    .dataframe thead th {\n",
       "        text-align: right;\n",
       "    }\n",
       "</style>\n",
       "<table border=\"1\" class=\"dataframe\">\n",
       "  <thead>\n",
       "    <tr style=\"text-align: right;\">\n",
       "      <th></th>\n",
       "      <th>Date</th>\n",
       "      <th>Price</th>\n",
       "      <th>Open</th>\n",
       "      <th>High</th>\n",
       "      <th>Low</th>\n",
       "    </tr>\n",
       "  </thead>\n",
       "  <tbody>\n",
       "    <tr>\n",
       "      <th>3329</th>\n",
       "      <td>03/24/2023</td>\n",
       "      <td>328.39</td>\n",
       "      <td>320.63</td>\n",
       "      <td>331.83</td>\n",
       "      <td>320.63</td>\n",
       "    </tr>\n",
       "    <tr>\n",
       "      <th>3330</th>\n",
       "      <td>03/27/2023</td>\n",
       "      <td>327.66</td>\n",
       "      <td>327.55</td>\n",
       "      <td>336.44</td>\n",
       "      <td>324.41</td>\n",
       "    </tr>\n",
       "    <tr>\n",
       "      <th>3331</th>\n",
       "      <td>03/28/2023</td>\n",
       "      <td>323.52</td>\n",
       "      <td>326.06</td>\n",
       "      <td>333.32</td>\n",
       "      <td>321.28</td>\n",
       "    </tr>\n",
       "    <tr>\n",
       "      <th>3332</th>\n",
       "      <td>03/29/2023</td>\n",
       "      <td>332.03</td>\n",
       "      <td>326.29</td>\n",
       "      <td>332.85</td>\n",
       "      <td>325.73</td>\n",
       "    </tr>\n",
       "    <tr>\n",
       "      <th>3333</th>\n",
       "      <td>03/30/2023</td>\n",
       "      <td>338.43</td>\n",
       "      <td>340.27</td>\n",
       "      <td>343.29</td>\n",
       "      <td>335.30</td>\n",
       "    </tr>\n",
       "  </tbody>\n",
       "</table>\n",
       "</div>"
      ],
      "text/plain": [
       "            Date   Price    Open    High     Low\n",
       "3329  03/24/2023  328.39  320.63  331.83  320.63\n",
       "3330  03/27/2023  327.66  327.55  336.44  324.41\n",
       "3331  03/28/2023  323.52  326.06  333.32  321.28\n",
       "3332  03/29/2023  332.03  326.29  332.85  325.73\n",
       "3333  03/30/2023  338.43  340.27  343.29  335.30"
      ]
     },
     "execution_count": 21,
     "metadata": {},
     "output_type": "execute_result"
    }
   ],
   "source": [
    "df.tail()"
   ]
  },
  {
   "cell_type": "code",
   "execution_count": 22,
   "id": "f209ec55",
   "metadata": {},
   "outputs": [],
   "source": [
    "df_norm = df.reset_index(drop = True)"
   ]
  },
  {
   "cell_type": "code",
   "execution_count": 23,
   "id": "b2ce54d9",
   "metadata": {},
   "outputs": [
    {
     "data": {
      "text/html": [
       "<div>\n",
       "<style scoped>\n",
       "    .dataframe tbody tr th:only-of-type {\n",
       "        vertical-align: middle;\n",
       "    }\n",
       "\n",
       "    .dataframe tbody tr th {\n",
       "        vertical-align: top;\n",
       "    }\n",
       "\n",
       "    .dataframe thead th {\n",
       "        text-align: right;\n",
       "    }\n",
       "</style>\n",
       "<table border=\"1\" class=\"dataframe\">\n",
       "  <thead>\n",
       "    <tr style=\"text-align: right;\">\n",
       "      <th></th>\n",
       "      <th>Date</th>\n",
       "      <th>Price</th>\n",
       "      <th>Open</th>\n",
       "      <th>High</th>\n",
       "      <th>Low</th>\n",
       "    </tr>\n",
       "  </thead>\n",
       "  <tbody>\n",
       "    <tr>\n",
       "      <th>0</th>\n",
       "      <td>01/04/2010</td>\n",
       "      <td>7.64</td>\n",
       "      <td>7.93</td>\n",
       "      <td>7.96</td>\n",
       "      <td>7.57</td>\n",
       "    </tr>\n",
       "    <tr>\n",
       "      <th>1</th>\n",
       "      <td>01/05/2010</td>\n",
       "      <td>7.36</td>\n",
       "      <td>7.65</td>\n",
       "      <td>7.66</td>\n",
       "      <td>7.26</td>\n",
       "    </tr>\n",
       "    <tr>\n",
       "      <th>2</th>\n",
       "      <td>01/06/2010</td>\n",
       "      <td>7.62</td>\n",
       "      <td>7.36</td>\n",
       "      <td>7.67</td>\n",
       "      <td>7.20</td>\n",
       "    </tr>\n",
       "    <tr>\n",
       "      <th>3</th>\n",
       "      <td>01/07/2010</td>\n",
       "      <td>7.49</td>\n",
       "      <td>7.73</td>\n",
       "      <td>7.76</td>\n",
       "      <td>7.46</td>\n",
       "    </tr>\n",
       "    <tr>\n",
       "      <th>4</th>\n",
       "      <td>01/08/2010</td>\n",
       "      <td>7.61</td>\n",
       "      <td>7.50</td>\n",
       "      <td>7.74</td>\n",
       "      <td>7.47</td>\n",
       "    </tr>\n",
       "  </tbody>\n",
       "</table>\n",
       "</div>"
      ],
      "text/plain": [
       "         Date  Price  Open  High   Low\n",
       "0  01/04/2010   7.64  7.93  7.96  7.57\n",
       "1  01/05/2010   7.36  7.65  7.66  7.26\n",
       "2  01/06/2010   7.62  7.36  7.67  7.20\n",
       "3  01/07/2010   7.49  7.73  7.76  7.46\n",
       "4  01/08/2010   7.61  7.50  7.74  7.47"
      ]
     },
     "execution_count": 23,
     "metadata": {},
     "output_type": "execute_result"
    }
   ],
   "source": [
    "df_norm.head()"
   ]
  },
  {
   "cell_type": "markdown",
   "id": "009d2384",
   "metadata": {},
   "source": [
    "### check extream data"
   ]
  },
  {
   "cell_type": "code",
   "execution_count": 24,
   "id": "e11b5703",
   "metadata": {},
   "outputs": [
    {
     "name": "stdout",
     "output_type": "stream",
     "text": [
      "Int64Index([2649, 2686, 2713, 2715, 2717, 2781, 2782, 2783, 2784, 2785,\n",
      "            ...\n",
      "            3017, 3018, 3019, 3020, 3021, 3022, 3023, 3024, 3025, 3026],\n",
      "           dtype='int64', length=126)\n",
      "Mean: 190.84\n",
      "Standard deviation: 178.30\n",
      "Extreme values: 2649    567.98\n",
      "2686    553.78\n",
      "2713    548.81\n",
      "2715    562.61\n",
      "2717    549.50\n",
      "         ...  \n",
      "3022    605.61\n",
      "3023    599.91\n",
      "3024    592.00\n",
      "3025    554.34\n",
      "3026    549.46\n",
      "Name: Open, Length: 126, dtype: float64\n"
     ]
    }
   ],
   "source": [
    "# calculate mean and standard deviation\n",
    "mean = np.mean(df['Open'])\n",
    "std = np.std(df['Open'])\n",
    "\n",
    "# find extreme values\n",
    "extreme_values = df['Open'][np.abs(df['Open'] - mean) > 2 * std]\n",
    "\n",
    "# print results\n",
    "print(extreme_values.index)\n",
    "print(\"Mean: {:.2f}\".format(mean))\n",
    "print(\"Standard deviation: {:.2f}\".format(std))\n",
    "print(\"Extreme values: {}\".format(extreme_values))"
   ]
  },
  {
   "cell_type": "code",
   "execution_count": 25,
   "id": "8d8b8734",
   "metadata": {},
   "outputs": [
    {
     "data": {
      "image/png": "[encoded data removed]",
      "text/plain": [
       "<Figure size 432x288 with 1 Axes>"
      ]
     },
     "metadata": {
      "needs_background": "light"
     },
     "output_type": "display_data"
    }
   ],
   "source": [
    "y = df['Price']\n",
    "plt.plot(y)\n",
    "plt.show()"
   ]
  },
  {
   "cell_type": "markdown",
   "id": "3c66805b",
   "metadata": {},
   "source": [
    "## Heatmap corr"
   ]
  },
  {
   "cell_type": "code",
   "execution_count": 26,
   "id": "ad5202e9",
   "metadata": {},
   "outputs": [
    {
     "data": {
      "text/html": [
       "<div>\n",
       "<style scoped>\n",
       "    .dataframe tbody tr th:only-of-type {\n",
       "        vertical-align: middle;\n",
       "    }\n",
       "\n",
       "    .dataframe tbody tr th {\n",
       "        vertical-align: top;\n",
       "    }\n",
       "\n",
       "    .dataframe thead th {\n",
       "        text-align: right;\n",
       "    }\n",
       "</style>\n",
       "<table border=\"1\" class=\"dataframe\">\n",
       "  <thead>\n",
       "    <tr style=\"text-align: right;\">\n",
       "      <th></th>\n",
       "      <th>Price</th>\n",
       "      <th>Open</th>\n",
       "      <th>High</th>\n",
       "      <th>Low</th>\n",
       "    </tr>\n",
       "  </thead>\n",
       "  <tbody>\n",
       "    <tr>\n",
       "      <th>Price</th>\n",
       "      <td>1.000000</td>\n",
       "      <td>0.999541</td>\n",
       "      <td>0.999797</td>\n",
       "      <td>0.999783</td>\n",
       "    </tr>\n",
       "    <tr>\n",
       "      <th>Open</th>\n",
       "      <td>0.999541</td>\n",
       "      <td>1.000000</td>\n",
       "      <td>0.999788</td>\n",
       "      <td>0.999788</td>\n",
       "    </tr>\n",
       "    <tr>\n",
       "      <th>High</th>\n",
       "      <td>0.999797</td>\n",
       "      <td>0.999788</td>\n",
       "      <td>1.000000</td>\n",
       "      <td>0.999729</td>\n",
       "    </tr>\n",
       "    <tr>\n",
       "      <th>Low</th>\n",
       "      <td>0.999783</td>\n",
       "      <td>0.999788</td>\n",
       "      <td>0.999729</td>\n",
       "      <td>1.000000</td>\n",
       "    </tr>\n",
       "  </tbody>\n",
       "</table>\n",
       "</div>"
      ],
      "text/plain": [
       "          Price      Open      High       Low\n",
       "Price  1.000000  0.999541  0.999797  0.999783\n",
       "Open   0.999541  1.000000  0.999788  0.999788\n",
       "High   0.999797  0.999788  1.000000  0.999729\n",
       "Low    0.999783  0.999788  0.999729  1.000000"
      ]
     },
     "execution_count": 26,
     "metadata": {},
     "output_type": "execute_result"
    }
   ],
   "source": [
    "df.corr()"
   ]
  },
  {
   "cell_type": "code",
   "execution_count": null,
   "id": "105f31d2",
   "metadata": {},
   "outputs": [],
   "source": []
  },
  {
   "cell_type": "code",
   "execution_count": 27,
   "id": "8fa4e3e4",
   "metadata": {},
   "outputs": [
    {
     "data": {
      "image/png": "[encoded data removed]",
      "text/plain": [
       "<Figure size 720x720 with 1 Axes>"
      ]
     },
     "metadata": {
      "needs_background": "light"
     },
     "output_type": "display_data"
    }
   ],
   "source": [
    "# Mengatur ukuran gambar\n",
    "fig = plt.figure(figsize=(10, 10))\n",
    "\n",
    "nilaix = df['Open']\n",
    "nilaiy= df['Price']\n",
    "\n",
    "slope, intercept, r, p, std_err = stats.linregress(nilaix, nilaiy)\n",
    "\n",
    "def myfunc(x):\n",
    "  return slope * x + intercept\n",
    "\n",
    "mymodel = list(map(myfunc, nilaix))\n",
    "\n",
    "plt.xlabel(\"Open price\")\n",
    "plt.ylabel(\"Close Price\")\n",
    "plt.scatter(nilaix,nilaiy)\n",
    "plt.plot(nilaix,mymodel,color='r')\n",
    "plt.show()"
   ]
  },
  {
   "cell_type": "markdown",
   "id": "9fbc0ad5",
   "metadata": {},
   "source": [
    "### create model multiple regression"
   ]
  },
  {
   "cell_type": "code",
   "execution_count": 28,
   "id": "3897afb5",
   "metadata": {},
   "outputs": [],
   "source": [
    "valueX = ['Open','High','Low']\n",
    "X_train = df[valueX]\n",
    "trainY = df['Price']\n",
    "trainY_check = df['Price'].values.tolist()"
   ]
  },
  {
   "cell_type": "code",
   "execution_count": 29,
   "id": "39cc457d",
   "metadata": {},
   "outputs": [
    {
     "data": {
      "text/html": [
       "<style>#sk-container-id-1 {color: black;background-color: white;}#sk-container-id-1 pre{padding: 0;}#sk-container-id-1 div.sk-toggleable {background-color: white;}#sk-container-id-1 label.sk-toggleable__label {cursor: pointer;display: block;width: 100%;margin-bottom: 0;padding: 0.3em;box-sizing: border-box;text-align: center;}#sk-container-id-1 label.sk-toggleable__label-arrow:before {content: \"▸\";float: left;margin-right: 0.25em;color: #696969;}#sk-container-id-1 label.sk-toggleable__label-arrow:hover:before {color: black;}#sk-container-id-1 div.sk-estimator:hover label.sk-toggleable__label-arrow:before {color: black;}#sk-container-id-1 div.sk-toggleable__content {max-height: 0;max-width: 0;overflow: hidden;text-align: left;background-color: #f0f8ff;}#sk-container-id-1 div.sk-toggleable__content pre {margin: 0.2em;color: black;border-radius: 0.25em;background-color: #f0f8ff;}#sk-container-id-1 input.sk-toggleable__control:checked~div.sk-toggleable__content {max-height: 200px;max-width: 100%;overflow: auto;}#sk-container-id-1 input.sk-toggleable__control:checked~label.sk-toggleable__label-arrow:before {content: \"▾\";}#sk-container-id-1 div.sk-estimator input.sk-toggleable__control:checked~label.sk-toggleable__label {background-color: #d4ebff;}#sk-container-id-1 div.sk-label input.sk-toggleable__control:checked~label.sk-toggleable__label {background-color: #d4ebff;}#sk-container-id-1 input.sk-hidden--visually {border: 0;clip: rect(1px 1px 1px 1px);clip: rect(1px, 1px, 1px, 1px);height: 1px;margin: -1px;overflow: hidden;padding: 0;position: absolute;width: 1px;}#sk-container-id-1 div.sk-estimator {font-family: monospace;background-color: #f0f8ff;border: 1px dotted black;border-radius: 0.25em;box-sizing: border-box;margin-bottom: 0.5em;}#sk-container-id-1 div.sk-estimator:hover {background-color: #d4ebff;}#sk-container-id-1 div.sk-parallel-item::after {content: \"\";width: 100%;border-bottom: 1px solid gray;flex-grow: 1;}#sk-container-id-1 div.sk-label:hover label.sk-toggleable__label {background-color: #d4ebff;}#sk-container-id-1 div.sk-serial::before {content: \"\";position: absolute;border-left: 1px solid gray;box-sizing: border-box;top: 0;bottom: 0;left: 50%;z-index: 0;}#sk-container-id-1 div.sk-serial {display: flex;flex-direction: column;align-items: center;background-color: white;padding-right: 0.2em;padding-left: 0.2em;position: relative;}#sk-container-id-1 div.sk-item {position: relative;z-index: 1;}#sk-container-id-1 div.sk-parallel {display: flex;align-items: stretch;justify-content: center;background-color: white;position: relative;}#sk-container-id-1 div.sk-item::before, #sk-container-id-1 div.sk-parallel-item::before {content: \"\";position: absolute;border-left: 1px solid gray;box-sizing: border-box;top: 0;bottom: 0;left: 50%;z-index: -1;}#sk-container-id-1 div.sk-parallel-item {display: flex;flex-direction: column;z-index: 1;position: relative;background-color: white;}#sk-container-id-1 div.sk-parallel-item:first-child::after {align-self: flex-end;width: 50%;}#sk-container-id-1 div.sk-parallel-item:last-child::after {align-self: flex-start;width: 50%;}#sk-container-id-1 div.sk-parallel-item:only-child::after {width: 0;}#sk-container-id-1 div.sk-dashed-wrapped {border: 1px dashed gray;margin: 0 0.4em 0.5em 0.4em;box-sizing: border-box;padding-bottom: 0.4em;background-color: white;}#sk-container-id-1 div.sk-label label {font-family: monospace;font-weight: bold;display: inline-block;line-height: 1.2em;}#sk-container-id-1 div.sk-label-container {text-align: center;}#sk-container-id-1 div.sk-container {/* jupyter's `normalize.less` sets `[hidden] { display: none; }` but bootstrap.min.css set `[hidden] { display: none !important; }` so we also need the `!important` here to be able to override the default hidden behavior on the sphinx rendered scikit-learn.org. See: https://github.com/scikit-learn/scikit-learn/issues/21755 */display: inline-block !important;position: relative;}#sk-container-id-1 div.sk-text-repr-fallback {display: none;}</style><div id=\"sk-container-id-1\" class=\"sk-top-container\"><div class=\"sk-text-repr-fallback\"><pre>LinearRegression()</pre><b>In a Jupyter environment, please rerun this cell to show the HTML representation or trust the notebook. <br />On GitHub, the HTML representation is unable to render, please try loading this page with nbviewer.org.</b></div><div class=\"sk-container\" hidden><div class=\"sk-item\"><div class=\"sk-estimator sk-toggleable\"><input class=\"sk-toggleable__control sk-hidden--visually\" id=\"sk-estimator-id-1\" type=\"checkbox\" checked><label for=\"sk-estimator-id-1\" class=\"sk-toggleable__label sk-toggleable__label-arrow\">LinearRegression</label><div class=\"sk-toggleable__content\"><pre>LinearRegression()</pre></div></div></div></div></div>"
      ],
      "text/plain": [
       "LinearRegression()"
      ]
     },
     "execution_count": 29,
     "metadata": {},
     "output_type": "execute_result"
    }
   ],
   "source": [
    "linear = LinearRegression()\n",
    "linear.fit(X_train,trainY)"
   ]
  },
  {
   "cell_type": "code",
   "execution_count": 30,
   "id": "91be80e5",
   "metadata": {},
   "outputs": [
    {
     "name": "stdout",
     "output_type": "stream",
     "text": [
      "Making predictions for the following 5:\n",
      "   Open  High   Low\n",
      "0  7.93  7.96  7.57\n",
      "1  7.65  7.66  7.26\n",
      "2  7.36  7.67  7.20\n",
      "3  7.73  7.76  7.46\n",
      "4  7.50  7.74  7.47\n",
      "5  7.66  7.70  7.53\n",
      "6  7.53  7.58  7.45\n",
      "7  7.61  7.75  7.56\n",
      "8  7.52  7.58  7.27\n",
      "9  7.25  7.41  7.23\n",
      "The predictions Price are\n",
      "[7.71030267 7.39052259 7.52482778 7.58089398 7.70986629 7.62882531\n",
      " 7.54617372 7.72287312 7.4109775  7.40267383]\n"
     ]
    }
   ],
   "source": [
    "print(\"Making predictions for the following 5:\")\n",
    "print(X_train.head(10))\n",
    "print(\"The predictions Price are\")\n",
    "print(linear.predict(X_train.head(10)))"
   ]
  },
  {
   "cell_type": "code",
   "execution_count": 31,
   "id": "f47a36d0",
   "metadata": {},
   "outputs": [],
   "source": [
    "data_predict = linear.predict(X_train)"
   ]
  },
  {
   "cell_type": "markdown",
   "id": "ab1ee214",
   "metadata": {},
   "source": [
    "### plot data actual all "
   ]
  },
  {
   "cell_type": "code",
   "execution_count": 32,
   "id": "ba19ab0a",
   "metadata": {},
   "outputs": [
    {
     "data": {
      "image/png": "[encoded data removed]",
      "text/plain": [
       "<Figure size 864x432 with 1 Axes>"
      ]
     },
     "metadata": {
      "needs_background": "light"
     },
     "output_type": "display_data"
    }
   ],
   "source": [
    "plt.figure(figsize = (12,6))\n",
    "plt.plot(trainY_check , 'b' , label = 'Actual')\n",
    "plt.plot(data_predict , 'orange' , label = 'Forecast')\n",
    "plt.grid()\n",
    "plt.legend()\n",
    "plt.show()"
   ]
  },
  {
   "cell_type": "code",
   "execution_count": 33,
   "id": "b68827a0",
   "metadata": {},
   "outputs": [
    {
     "name": "stdout",
     "output_type": "stream",
     "text": [
      "Root Mean Squared Error: 2.3997078371380987\n"
     ]
    }
   ],
   "source": [
    "rmse2022 = mean_squared_error(trainY, data_predict, squared=False)\n",
    "print(\"Root Mean Squared Error:\", rmse2022)"
   ]
  },
  {
   "cell_type": "code",
   "execution_count": 34,
   "id": "a8eb178b",
   "metadata": {},
   "outputs": [
    {
     "name": "stdout",
     "output_type": "stream",
     "text": [
      "mean absolute error 1.3443839184883266\n"
     ]
    }
   ],
   "source": [
    "print(\"mean absolute error\", mean_absolute_error(trainY,data_predict))"
   ]
  },
  {
   "cell_type": "markdown",
   "id": "ae263604",
   "metadata": {},
   "source": [
    "### split data for train and test data"
   ]
  },
  {
   "cell_type": "code",
   "execution_count": 35,
   "id": "06146df8",
   "metadata": {},
   "outputs": [],
   "source": [
    "valueTrain = ['Open','High','Low']\n",
    "X = df[valueTrain]\n",
    "y = df['Price']"
   ]
  },
  {
   "cell_type": "code",
   "execution_count": 36,
   "id": "b2a82f82",
   "metadata": {},
   "outputs": [],
   "source": [
    "from sklearn.model_selection import train_test_split\n",
    "\n",
    "# split data into training and validation data, for both features and target\n",
    "# The split is based on a random number generator. Supplying a numeric value to\n",
    "# the random_state argument guarantees we get the same split every time we\n",
    "# run this script.\n",
    "train_X, val_X, train_y, val_y = train_test_split(X, y,test_size=0.4, shuffle=False)\n",
    "# Define model\n",
    "linearTrain = LinearRegression()\n",
    "# Fit model\n",
    "linearTrain.fit(train_X, train_y)\n",
    "\n",
    "# get predicted prices on validation data\n",
    "val_predictions = linearTrain.predict(val_X)"
   ]
  },
  {
   "cell_type": "code",
   "execution_count": 37,
   "id": "e3794a2d",
   "metadata": {},
   "outputs": [],
   "source": [
    "intercept =linearTrain.intercept_\n",
    "coefficients = linearTrain.coef_"
   ]
  },
  {
   "cell_type": "code",
   "execution_count": 38,
   "id": "ed70af07",
   "metadata": {},
   "outputs": [
    {
     "name": "stdout",
     "output_type": "stream",
     "text": [
      "Intercept: -0.027404213450509474\n",
      "Coefficient for Open: -0.5329088455214942\n",
      "Coefficient for High: 0.7984378364399003\n",
      "Coefficient for Low: 0.7347146936067156\n"
     ]
    }
   ],
   "source": [
    "# Setelah model dilatih\n",
    "coef = linearTrain.coef_\n",
    "intercept = linearTrain.intercept_\n",
    "\n",
    "# Menampilkan Intercept\n",
    "print(\"Intercept:\", intercept)\n",
    "\n",
    "# Menampilkan Koefisien dengan Nama Variabel yang Sesuai\n",
    "for feature_name, coef_value in zip(X.columns, coef):\n",
    "    print(f\"Coefficient for {feature_name}: {coef_value}\")"
   ]
  },
  {
   "cell_type": "code",
   "execution_count": 39,
   "id": "d766ba82",
   "metadata": {},
   "outputs": [
    {
     "data": {
      "text/plain": [
       "-0.027404213450509474"
      ]
     },
     "execution_count": 39,
     "metadata": {},
     "output_type": "execute_result"
    }
   ],
   "source": [
    "intercept"
   ]
  },
  {
   "cell_type": "code",
   "execution_count": 40,
   "id": "dec8f0d1",
   "metadata": {},
   "outputs": [
    {
     "data": {
      "text/plain": [
       "array([-0.53290885,  0.79843784,  0.73471469])"
      ]
     },
     "execution_count": 40,
     "metadata": {},
     "output_type": "execute_result"
    }
   ],
   "source": [
    "coefficients"
   ]
  },
  {
   "cell_type": "code",
   "execution_count": 41,
   "id": "b4f6f854",
   "metadata": {},
   "outputs": [
    {
     "data": {
      "text/plain": [
       "(2000,)"
      ]
     },
     "execution_count": 41,
     "metadata": {},
     "output_type": "execute_result"
    }
   ],
   "source": [
    "train_y.shape"
   ]
  },
  {
   "cell_type": "code",
   "execution_count": 42,
   "id": "ece46cb8",
   "metadata": {},
   "outputs": [
    {
     "data": {
      "text/plain": [
       "(1334,)"
      ]
     },
     "execution_count": 42,
     "metadata": {},
     "output_type": "execute_result"
    }
   ],
   "source": [
    "val_y.shape"
   ]
  },
  {
   "cell_type": "code",
   "execution_count": 43,
   "id": "f7f66a4b",
   "metadata": {},
   "outputs": [],
   "source": [
    "testy_check = val_y.values.tolist()"
   ]
  },
  {
   "cell_type": "code",
   "execution_count": 44,
   "id": "59e2560f",
   "metadata": {},
   "outputs": [
    {
     "data": {
      "image/png": "[encoded data removed]",
      "text/plain": [
       "<Figure size 864x432 with 1 Axes>"
      ]
     },
     "metadata": {
      "needs_background": "light"
     },
     "output_type": "display_data"
    }
   ],
   "source": [
    "fig = plt.figure(figsize=(12, 6))\n",
    "#plt.figure(figsize = (12,6))\n",
    "plt.plot(testy_check , 'b' , label = 'Actual')\n",
    "plt.plot(val_predictions , 'orange' , label = 'Forecast')\n",
    "plt.grid()\n",
    "plt.legend()\n",
    "plt.show()\n",
    "\n",
    "fig.savefig('nama_file.png', dpi=800)"
   ]
  },
  {
   "cell_type": "code",
   "execution_count": 45,
   "id": "246b3b6c",
   "metadata": {},
   "outputs": [
    {
     "name": "stdout",
     "output_type": "stream",
     "text": [
      "Root Mean Squared Error: 3.73392528813137\n"
     ]
    }
   ],
   "source": [
    "rmse = mean_squared_error(val_y, val_predictions, squared=False)\n",
    "print(\"Root Mean Squared Error:\", rmse)"
   ]
  },
  {
   "cell_type": "code",
   "execution_count": 46,
   "id": "a7606eba",
   "metadata": {},
   "outputs": [
    {
     "name": "stdout",
     "output_type": "stream",
     "text": [
      "mean absolute error 2.8016591623125064\n"
     ]
    }
   ],
   "source": [
    "print(\"mean absolute error\", mean_absolute_error(val_y,val_predictions))"
   ]
  },
  {
   "cell_type": "code",
   "execution_count": 47,
   "id": "f265f8c8",
   "metadata": {},
   "outputs": [
    {
     "name": "stdout",
     "output_type": "stream",
     "text": [
      "train score 0.9998329514239943\n",
      "test score 0.9990045871430902\n"
     ]
    }
   ],
   "source": [
    "print(\"train score\", linearTrain.score(train_X,train_y))\n",
    "print(\"test score\", linearTrain.score(val_X,val_y))"
   ]
  },
  {
   "cell_type": "code",
   "execution_count": 48,
   "id": "45201ccf",
   "metadata": {},
   "outputs": [
    {
     "data": {
      "text/html": [
       "<div>\n",
       "<style scoped>\n",
       "    .dataframe tbody tr th:only-of-type {\n",
       "        vertical-align: middle;\n",
       "    }\n",
       "\n",
       "    .dataframe tbody tr th {\n",
       "        vertical-align: top;\n",
       "    }\n",
       "\n",
       "    .dataframe thead th {\n",
       "        text-align: right;\n",
       "    }\n",
       "</style>\n",
       "<table border=\"1\" class=\"dataframe\">\n",
       "  <thead>\n",
       "    <tr style=\"text-align: right;\">\n",
       "      <th></th>\n",
       "      <th>Open</th>\n",
       "      <th>High</th>\n",
       "      <th>Low</th>\n",
       "    </tr>\n",
       "  </thead>\n",
       "  <tbody>\n",
       "    <tr>\n",
       "      <th>2000</th>\n",
       "      <td>187.85</td>\n",
       "      <td>189.42</td>\n",
       "      <td>185.91</td>\n",
       "    </tr>\n",
       "    <tr>\n",
       "      <th>2001</th>\n",
       "      <td>186.01</td>\n",
       "      <td>187.85</td>\n",
       "      <td>184.82</td>\n",
       "    </tr>\n",
       "    <tr>\n",
       "      <th>2002</th>\n",
       "      <td>186.10</td>\n",
       "      <td>188.69</td>\n",
       "      <td>185.41</td>\n",
       "    </tr>\n",
       "    <tr>\n",
       "      <th>2003</th>\n",
       "      <td>187.98</td>\n",
       "      <td>192.64</td>\n",
       "      <td>187.20</td>\n",
       "    </tr>\n",
       "    <tr>\n",
       "      <th>2004</th>\n",
       "      <td>189.61</td>\n",
       "      <td>191.43</td>\n",
       "      <td>188.01</td>\n",
       "    </tr>\n",
       "    <tr>\n",
       "      <th>2005</th>\n",
       "      <td>191.20</td>\n",
       "      <td>191.65</td>\n",
       "      <td>188.90</td>\n",
       "    </tr>\n",
       "    <tr>\n",
       "      <th>2006</th>\n",
       "      <td>190.18</td>\n",
       "      <td>190.30</td>\n",
       "      <td>185.75</td>\n",
       "    </tr>\n",
       "    <tr>\n",
       "      <th>2007</th>\n",
       "      <td>187.94</td>\n",
       "      <td>189.11</td>\n",
       "      <td>185.26</td>\n",
       "    </tr>\n",
       "    <tr>\n",
       "      <th>2008</th>\n",
       "      <td>189.44</td>\n",
       "      <td>190.95</td>\n",
       "      <td>187.58</td>\n",
       "    </tr>\n",
       "    <tr>\n",
       "      <th>2009</th>\n",
       "      <td>188.33</td>\n",
       "      <td>190.95</td>\n",
       "      <td>186.80</td>\n",
       "    </tr>\n",
       "  </tbody>\n",
       "</table>\n",
       "</div>"
      ],
      "text/plain": [
       "        Open    High     Low\n",
       "2000  187.85  189.42  185.91\n",
       "2001  186.01  187.85  184.82\n",
       "2002  186.10  188.69  185.41\n",
       "2003  187.98  192.64  187.20\n",
       "2004  189.61  191.43  188.01\n",
       "2005  191.20  191.65  188.90\n",
       "2006  190.18  190.30  185.75\n",
       "2007  187.94  189.11  185.26\n",
       "2008  189.44  190.95  187.58\n",
       "2009  188.33  190.95  186.80"
      ]
     },
     "execution_count": 48,
     "metadata": {},
     "output_type": "execute_result"
    }
   ],
   "source": [
    "val_X.head(10)"
   ]
  },
  {
   "cell_type": "code",
   "execution_count": 49,
   "id": "099b615f",
   "metadata": {},
   "outputs": [
    {
     "name": "stdout",
     "output_type": "stream",
     "text": [
      "Making predictions for the following 5:\n",
      "2000    186.22\n",
      "2001    185.73\n",
      "2002    187.86\n",
      "2003    189.56\n",
      "2004    190.12\n",
      "2005    190.42\n",
      "2006    187.02\n",
      "2007    188.82\n",
      "2008    188.62\n",
      "2009    189.94\n",
      "Name: Price, dtype: float64\n",
      "The predictions Close price are\n",
      "[187.69657282 186.62273868 187.67894633 191.14604646 189.90641416\n",
      " 189.8886415  187.03996616 186.92353075 189.29783119 189.31628254]\n"
     ]
    }
   ],
   "source": [
    "print(\"Making predictions for the following 5:\")\n",
    "print(val_y.head(10))\n",
    "print(\"The predictions Close price are\")\n",
    "print(linearTrain.predict(val_X.head(10)))"
   ]
  },
  {
   "cell_type": "code",
   "execution_count": null,
   "id": "27114b6b",
   "metadata": {},
   "outputs": [],
   "source": []
  },
  {
   "cell_type": "code",
   "execution_count": 50,
   "id": "0ebe6b15",
   "metadata": {},
   "outputs": [
    {
     "name": "stdout",
     "output_type": "stream",
     "text": [
      "9\n"
     ]
    }
   ],
   "source": [
    "count = 0\n",
    "predic_index = 0\n",
    "\n",
    "for loopX in range(3000, 3334):\n",
    "    check = abs(val_y.loc[loopX] - val_predictions[predic_index])\n",
    "    predic_index += 1\n",
    "    if check <= 4:\n",
    "        count += 1\n",
    "\n",
    "print(count)"
   ]
  },
  {
   "cell_type": "code",
   "execution_count": 51,
   "id": "33d3d990",
   "metadata": {},
   "outputs": [
    {
     "name": "stdout",
     "output_type": "stream",
     "text": [
      "2.694610778443114\n"
     ]
    }
   ],
   "source": [
    "persentase = (count * 100) / 334\n",
    "print(persentase)"
   ]
  },
  {
   "cell_type": "code",
   "execution_count": 52,
   "id": "c2bdae62",
   "metadata": {},
   "outputs": [
    {
     "data": {
      "text/plain": [
       "338.43"
      ]
     },
     "execution_count": 52,
     "metadata": {},
     "output_type": "execute_result"
    }
   ],
   "source": [
    "val_y[3333]"
   ]
  },
  {
   "cell_type": "markdown",
   "id": "c591640e",
   "metadata": {},
   "source": [
    "# HOW ABOUT SPLIT DATA with normalized data"
   ]
  },
  {
   "cell_type": "code",
   "execution_count": 53,
   "id": "94e2dd37",
   "metadata": {},
   "outputs": [],
   "source": [
    "scaler = MinMaxScaler()"
   ]
  },
  {
   "cell_type": "code",
   "execution_count": 54,
   "id": "76641cf8",
   "metadata": {},
   "outputs": [],
   "source": [
    "col_to_normalize = ['Price','Open','High','Low']"
   ]
  },
  {
   "cell_type": "code",
   "execution_count": 55,
   "id": "d32a5d94",
   "metadata": {},
   "outputs": [],
   "source": [
    "df_norm[col_to_normalize] = scaler.fit_transform(df_norm[col_to_normalize])"
   ]
  },
  {
   "cell_type": "code",
   "execution_count": 56,
   "id": "6833c442",
   "metadata": {},
   "outputs": [
    {
     "data": {
      "text/html": [
       "<div>\n",
       "<style scoped>\n",
       "    .dataframe tbody tr th:only-of-type {\n",
       "        vertical-align: middle;\n",
       "    }\n",
       "\n",
       "    .dataframe tbody tr th {\n",
       "        vertical-align: top;\n",
       "    }\n",
       "\n",
       "    .dataframe thead th {\n",
       "        text-align: right;\n",
       "    }\n",
       "</style>\n",
       "<table border=\"1\" class=\"dataframe\">\n",
       "  <thead>\n",
       "    <tr style=\"text-align: right;\">\n",
       "      <th></th>\n",
       "      <th>Date</th>\n",
       "      <th>Price</th>\n",
       "      <th>Open</th>\n",
       "      <th>High</th>\n",
       "      <th>Low</th>\n",
       "    </tr>\n",
       "  </thead>\n",
       "  <tbody>\n",
       "    <tr>\n",
       "      <th>0</th>\n",
       "      <td>01/04/2010</td>\n",
       "      <td>0.000906</td>\n",
       "      <td>0.001415</td>\n",
       "      <td>0.001124</td>\n",
       "      <td>0.000942</td>\n",
       "    </tr>\n",
       "    <tr>\n",
       "      <th>1</th>\n",
       "      <td>01/05/2010</td>\n",
       "      <td>0.000497</td>\n",
       "      <td>0.001007</td>\n",
       "      <td>0.000692</td>\n",
       "      <td>0.000486</td>\n",
       "    </tr>\n",
       "    <tr>\n",
       "      <th>2</th>\n",
       "      <td>01/06/2010</td>\n",
       "      <td>0.000876</td>\n",
       "      <td>0.000584</td>\n",
       "      <td>0.000706</td>\n",
       "      <td>0.000398</td>\n",
       "    </tr>\n",
       "    <tr>\n",
       "      <th>3</th>\n",
       "      <td>01/07/2010</td>\n",
       "      <td>0.000686</td>\n",
       "      <td>0.001123</td>\n",
       "      <td>0.000836</td>\n",
       "      <td>0.000780</td>\n",
       "    </tr>\n",
       "    <tr>\n",
       "      <th>4</th>\n",
       "      <td>01/08/2010</td>\n",
       "      <td>0.000862</td>\n",
       "      <td>0.000788</td>\n",
       "      <td>0.000807</td>\n",
       "      <td>0.000795</td>\n",
       "    </tr>\n",
       "  </tbody>\n",
       "</table>\n",
       "</div>"
      ],
      "text/plain": [
       "         Date     Price      Open      High       Low\n",
       "0  01/04/2010  0.000906  0.001415  0.001124  0.000942\n",
       "1  01/05/2010  0.000497  0.001007  0.000692  0.000486\n",
       "2  01/06/2010  0.000876  0.000584  0.000706  0.000398\n",
       "3  01/07/2010  0.000686  0.001123  0.000836  0.000780\n",
       "4  01/08/2010  0.000862  0.000788  0.000807  0.000795"
      ]
     },
     "execution_count": 56,
     "metadata": {},
     "output_type": "execute_result"
    }
   ],
   "source": [
    "df_norm.head()"
   ]
  },
  {
   "cell_type": "code",
   "execution_count": null,
   "id": "d073d127",
   "metadata": {},
   "outputs": [],
   "source": []
  }
 ],
 "metadata": {
  "kernelspec": {
   "display_name": "Python 3 (ipykernel)",
   "language": "python",
   "name": "python3"
  },
  "language_info": {
   "codemirror_mode": {
    "name": "ipython",
    "version": 3
   },
   "file_extension": ".py",
   "mimetype": "text/x-python",
   "name": "python",
   "nbconvert_exporter": "python",
   "pygments_lexer": "ipython3",
   "version": "3.9.6"
  }
 },
 "nbformat": 4,
 "nbformat_minor": 5
}
