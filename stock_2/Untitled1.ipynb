{
 "cells": [
  {
   "cell_type": "code",
   "execution_count": 2,
   "id": "ea963298",
   "metadata": {},
   "outputs": [],
   "source": [
    "import pandas as pd\n",
    "import numpy as np\n",
    "import matplotlib.pyplot as plt\n",
    "from scipy import stats\n",
    "\n",
    "#linear regression\n",
    "from sklearn.linear_model import LinearRegression\n",
    "\n",
    "#preprocessing sklearn\n",
    "#LabelEncoder\n",
    "from sklearn.preprocessing import LabelEncoder\n",
    "\n",
    "#RMSE\n",
    "from sklearn.metrics import mean_squared_error"
   ]
  },
  {
   "cell_type": "code",
   "execution_count": 3,
   "id": "f9b7b81b",
   "metadata": {},
   "outputs": [],
   "source": [
    "df = pd.read_csv(\"TSLA Historical Data4_bulan.csv\")"
   ]
  },
  {
   "cell_type": "code",
   "execution_count": 4,
   "id": "c380c2ac",
   "metadata": {},
   "outputs": [
    {
     "name": "stdout",
     "output_type": "stream",
     "text": [
      "<class 'pandas.core.frame.DataFrame'>\n",
      "RangeIndex: 62 entries, 0 to 61\n",
      "Data columns (total 7 columns):\n",
      " #   Column    Non-Null Count  Dtype  \n",
      "---  ------    --------------  -----  \n",
      " 0   Date      62 non-null     object \n",
      " 1   Price     62 non-null     float64\n",
      " 2   Open      62 non-null     float64\n",
      " 3   High      62 non-null     float64\n",
      " 4   Low       62 non-null     float64\n",
      " 5   Vol.      62 non-null     object \n",
      " 6   Change %  62 non-null     object \n",
      "dtypes: float64(4), object(3)\n",
      "memory usage: 3.5+ KB\n"
     ]
    }
   ],
   "source": [
    "df.info()"
   ]
  },
  {
   "cell_type": "markdown",
   "id": "10c86e9c",
   "metadata": {},
   "source": [
    "## Pre-processing data"
   ]
  },
  {
   "cell_type": "markdown",
   "id": "30a7e57b",
   "metadata": {},
   "source": [
    "#### Delete null,duplicates,and wrong data"
   ]
  },
  {
   "cell_type": "code",
   "execution_count": 5,
   "id": "c6d4c781",
   "metadata": {},
   "outputs": [],
   "source": [
    "df.dropna(inplace = True)\n",
    "df.drop_duplicates(inplace = True)"
   ]
  },
  {
   "cell_type": "markdown",
   "id": "14b3c1e1",
   "metadata": {},
   "source": [
    "#### Collect data"
   ]
  },
  {
   "cell_type": "code",
   "execution_count": 6,
   "id": "f404f5ba",
   "metadata": {},
   "outputs": [],
   "source": [
    "df.drop(columns =['Vol.','Change %'],axis=1,inplace = True)"
   ]
  },
  {
   "cell_type": "code",
   "execution_count": 7,
   "id": "d0a075ce",
   "metadata": {},
   "outputs": [
    {
     "name": "stdout",
     "output_type": "stream",
     "text": [
      "<class 'pandas.core.frame.DataFrame'>\n",
      "Int64Index: 62 entries, 0 to 61\n",
      "Data columns (total 5 columns):\n",
      " #   Column  Non-Null Count  Dtype  \n",
      "---  ------  --------------  -----  \n",
      " 0   Date    62 non-null     object \n",
      " 1   Price   62 non-null     float64\n",
      " 2   Open    62 non-null     float64\n",
      " 3   High    62 non-null     float64\n",
      " 4   Low     62 non-null     float64\n",
      "dtypes: float64(4), object(1)\n",
      "memory usage: 2.9+ KB\n"
     ]
    }
   ],
   "source": [
    "df.info()"
   ]
  },
  {
   "cell_type": "markdown",
   "id": "86e3353b",
   "metadata": {},
   "source": [
    "### I Will create normalization with no normalization"
   ]
  },
  {
   "cell_type": "code",
   "execution_count": 8,
   "id": "1b5e33b1",
   "metadata": {},
   "outputs": [],
   "source": [
    "df_norm = df.reset_index(drop = True)"
   ]
  },
  {
   "cell_type": "code",
   "execution_count": 9,
   "id": "0512f896",
   "metadata": {},
   "outputs": [
    {
     "data": {
      "text/html": [
       "<div>\n",
       "<style scoped>\n",
       "    .dataframe tbody tr th:only-of-type {\n",
       "        vertical-align: middle;\n",
       "    }\n",
       "\n",
       "    .dataframe tbody tr th {\n",
       "        vertical-align: top;\n",
       "    }\n",
       "\n",
       "    .dataframe thead th {\n",
       "        text-align: right;\n",
       "    }\n",
       "</style>\n",
       "<table border=\"1\" class=\"dataframe\">\n",
       "  <thead>\n",
       "    <tr style=\"text-align: right;\">\n",
       "      <th></th>\n",
       "      <th>Date</th>\n",
       "      <th>Price</th>\n",
       "      <th>Open</th>\n",
       "      <th>High</th>\n",
       "      <th>Low</th>\n",
       "    </tr>\n",
       "  </thead>\n",
       "  <tbody>\n",
       "    <tr>\n",
       "      <th>0</th>\n",
       "      <td>03/31/2023</td>\n",
       "      <td>207.46</td>\n",
       "      <td>197.53</td>\n",
       "      <td>207.79</td>\n",
       "      <td>197.20</td>\n",
       "    </tr>\n",
       "    <tr>\n",
       "      <th>1</th>\n",
       "      <td>03/30/2023</td>\n",
       "      <td>195.28</td>\n",
       "      <td>195.58</td>\n",
       "      <td>197.33</td>\n",
       "      <td>194.42</td>\n",
       "    </tr>\n",
       "    <tr>\n",
       "      <th>2</th>\n",
       "      <td>03/29/2023</td>\n",
       "      <td>193.88</td>\n",
       "      <td>193.13</td>\n",
       "      <td>195.29</td>\n",
       "      <td>189.44</td>\n",
       "    </tr>\n",
       "    <tr>\n",
       "      <th>3</th>\n",
       "      <td>03/28/2023</td>\n",
       "      <td>189.19</td>\n",
       "      <td>192.00</td>\n",
       "      <td>192.35</td>\n",
       "      <td>185.43</td>\n",
       "    </tr>\n",
       "    <tr>\n",
       "      <th>4</th>\n",
       "      <td>03/27/2023</td>\n",
       "      <td>191.81</td>\n",
       "      <td>194.41</td>\n",
       "      <td>197.39</td>\n",
       "      <td>189.94</td>\n",
       "    </tr>\n",
       "  </tbody>\n",
       "</table>\n",
       "</div>"
      ],
      "text/plain": [
       "         Date   Price    Open    High     Low\n",
       "0  03/31/2023  207.46  197.53  207.79  197.20\n",
       "1  03/30/2023  195.28  195.58  197.33  194.42\n",
       "2  03/29/2023  193.88  193.13  195.29  189.44\n",
       "3  03/28/2023  189.19  192.00  192.35  185.43\n",
       "4  03/27/2023  191.81  194.41  197.39  189.94"
      ]
     },
     "execution_count": 9,
     "metadata": {},
     "output_type": "execute_result"
    }
   ],
   "source": [
    "df_norm.head()"
   ]
  },
  {
   "cell_type": "code",
   "execution_count": 10,
   "id": "c1fad573",
   "metadata": {},
   "outputs": [
    {
     "ename": "NameError",
     "evalue": "name 'MinMaxScaler' is not defined",
     "output_type": "error",
     "traceback": [
      "\u001b[1;31m---------------------------------------------------------------------------\u001b[0m",
      "\u001b[1;31mNameError\u001b[0m                                 Traceback (most recent call last)",
      "Input \u001b[1;32mIn [10]\u001b[0m, in \u001b[0;36m<cell line: 1>\u001b[1;34m()\u001b[0m\n\u001b[1;32m----> 1\u001b[0m scaler \u001b[38;5;241m=\u001b[39m \u001b[43mMinMaxScaler\u001b[49m()\n",
      "\u001b[1;31mNameError\u001b[0m: name 'MinMaxScaler' is not defined"
     ]
    }
   ],
   "source": [
    "scaler = MinMaxScaler()"
   ]
  },
  {
   "cell_type": "code",
   "execution_count": null,
   "id": "04d17505",
   "metadata": {},
   "outputs": [],
   "source": [
    "df"
   ]
  },
  {
   "cell_type": "code",
   "execution_count": null,
   "id": "1f7cd67e",
   "metadata": {},
   "outputs": [],
   "source": [
    "#Price\n",
    "\n",
    "df['Price'] = scaler.transform(df_norm['Price'])\n",
    "df"
   ]
  },
  {
   "cell_type": "code",
   "execution_count": null,
   "id": "92f215a6",
   "metadata": {},
   "outputs": [],
   "source": [
    "df_norm.head()"
   ]
  },
  {
   "cell_type": "code",
   "execution_count": null,
   "id": "452c1e77",
   "metadata": {},
   "outputs": [],
   "source": [
    "#Open\n",
    "scaler.fit(df_norm[['Open']])\n",
    "df_norm['Open'] = scaler.transform(df_norm['Open'])\n",
    "#High\n",
    "scaler.fit(df_norm[['High']])\n",
    "df_norm['High'] = scaler.transform(df_norm['High'])\n",
    "#low\n",
    "scaler.fit(df_norm[['Low']])\n",
    "df_norm['Low'] = scaler.transform(df_norm['Low'])"
   ]
  }
 ],
 "metadata": {
  "kernelspec": {
   "display_name": "Python 3 (ipykernel)",
   "language": "python",
   "name": "python3"
  },
  "language_info": {
   "codemirror_mode": {
    "name": "ipython",
    "version": 3
   },
   "file_extension": ".py",
   "mimetype": "text/x-python",
   "name": "python",
   "nbconvert_exporter": "python",
   "pygments_lexer": "ipython3",
   "version": "3.9.6"
  }
 },
 "nbformat": 4,
 "nbformat_minor": 5
}
