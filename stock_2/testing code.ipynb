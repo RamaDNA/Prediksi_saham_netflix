{
 "cells": [
  {
   "cell_type": "code",
   "execution_count": 1,
   "id": "4869a139",
   "metadata": {},
   "outputs": [
    {
     "name": "stdout",
     "output_type": "stream",
     "text": [
      "         age         city\n",
      "name                     \n",
      "Alice     25     New York\n",
      "Bob       30  Los Angeles\n",
      "Charlie   35      Chicago\n",
      "David     40      Houston\n"
     ]
    }
   ],
   "source": [
    "import pandas as pd\n",
    "\n",
    "# create a sample dataset\n",
    "data = {'name': ['Alice', 'Bob', 'Charlie', 'David'],\n",
    "        'age': [25, 30, 35, 40],\n",
    "        'city': ['New York', 'Los Angeles', 'Chicago', 'Houston']}\n",
    "df = pd.DataFrame(data)\n",
    "\n",
    "# set the 'name' column as the index\n",
    "df = df.set_index('name')\n",
    "\n",
    "# print the updated dataset\n",
    "print(df)\n"
   ]
  },
  {
   "cell_type": "code",
   "execution_count": 2,
   "id": "81c2695a",
   "metadata": {},
   "outputs": [
    {
     "name": "stdout",
     "output_type": "stream",
     "text": [
      "5\n",
      "5\n"
     ]
    }
   ],
   "source": [
    "test = abs(5)\n",
    "print(test)\n",
    "test2 = abs(-5)\n",
    "print(test2)"
   ]
  },
  {
   "cell_type": "code",
   "execution_count": 1,
   "id": "61a5292b",
   "metadata": {},
   "outputs": [
    {
     "data": {
      "image/png": "[encoded data removed]",
      "text/plain": [
       "<Figure size 432x288 with 1 Axes>"
      ]
     },
     "metadata": {
      "needs_background": "light"
     },
     "output_type": "display_data"
    }
   ],
   "source": [
    "from sklearn.metrics import accuracy_score\n",
    "import matplotlib.pyplot as plt\n",
    "\n",
    "# actual target values\n",
    "y_true = [0, 1, 1, 0, 1, 0, 0, 1, 1, 0]\n",
    "\n",
    "# predicted values\n",
    "y_pred = [0, 1, 0, 0, 1, 1, 0, 1, 0, 1]\n",
    "\n",
    "# calculate accuracy score\n",
    "accuracy = accuracy_score(y_true, y_pred)\n",
    "\n",
    "# create plot\n",
    "plt.plot([0, 1], [accuracy, accuracy], linestyle='--', label='Accuracy')\n",
    "\n",
    "# format plot\n",
    "plt.ylim([0, 1])\n",
    "plt.xlabel('Predictions')\n",
    "plt.ylabel('Score')\n",
    "plt.legend(loc='best')\n",
    "plt.tight_layout()\n",
    "\n",
    "# show plot\n",
    "plt.show()"
   ]
  },
  {
   "cell_type": "code",
   "execution_count": 6,
   "id": "446a6a53",
   "metadata": {},
   "outputs": [
    {
     "name": "stdout",
     "output_type": "stream",
     "text": [
      "Accuracy: 55.56%\n"
     ]
    }
   ],
   "source": [
    "from sklearn.metrics import accuracy_score\n",
    "\n",
    "# true labels\n",
    "y_true = [0, 1, 2, 0, 1, 2, 0, 1, 2]\n",
    "\n",
    "# predicted labels\n",
    "y_pred = [0, 1, 1, 0, 1, 2, 1, 2, 3]\n",
    "\n",
    "# calculate accuracy\n",
    "accuracy = accuracy_score(y_true, y_pred)\n",
    "\n",
    "# print accuracy as percentage\n",
    "print(\"Accuracy: {:.2f}%\".format(accuracy * 100))"
   ]
  },
  {
   "cell_type": "code",
   "execution_count": 2,
   "id": "5ed393a0",
   "metadata": {},
   "outputs": [
    {
     "data": {
      "image/png": "[encoded data removed]",
      "text/plain": [
       "<Figure size 432x288 with 1 Axes>"
      ]
     },
     "metadata": {
      "needs_background": "light"
     },
     "output_type": "display_data"
    }
   ],
   "source": [
    "import matplotlib.pyplot as plt\n",
    "\n",
    "# data\n",
    "x = ['Aaaa', 'B', 'C', 'D', 'E']\n",
    "y = [10, 24, 36, 12, 28]\n",
    "\n",
    "# create bar chart\n",
    "fig, ax = plt.subplots()\n",
    "ax.bar(x, y, orientation='vertical')\n",
    "\n",
    "# set labels\n",
    "ax.set_xlabel('X-axis label')\n",
    "ax.set_ylabel('Y-axis label')\n",
    "ax.set_title('Title')\n",
    "\n",
    "plt.show()\n"
   ]
  },
  {
   "cell_type": "code",
   "execution_count": 5,
   "id": "6f1f15c4",
   "metadata": {},
   "outputs": [
    {
     "data": {
      "image/png": "[encoded data removed]",
      "text/plain": [
       "<Figure size 432x288 with 1 Axes>"
      ]
     },
     "metadata": {
      "needs_background": "light"
     },
     "output_type": "display_data"
    }
   ],
   "source": [
    "import matplotlib.pyplot as plt\n",
    "\n",
    "# data\n",
    "x = ['A', 'B', 'C', 'D', 'E']\n",
    "y = [10, 24, 36, 12, 28]\n",
    "\n",
    "# create bar chart with color\n",
    "fig, ax = plt.subplots()\n",
    "ax.bar(x, y, color=['red', 'blue', 'green', 'purple', 'orange'])\n",
    "\n",
    "# set labels\n",
    "ax.set_xlabel('X-axis label')\n",
    "ax.set_ylabel('Y-axis label')\n",
    "ax.set_title('Title')\n",
    "\n",
    "plt.show()"
   ]
  },
  {
   "cell_type": "code",
   "execution_count": null,
   "id": "4bb6f311",
   "metadata": {},
   "outputs": [],
   "source": []
  }
 ],
 "metadata": {
  "kernelspec": {
   "display_name": "Python 3 (ipykernel)",
   "language": "python",
   "name": "python3"
  },
  "language_info": {
   "codemirror_mode": {
    "name": "ipython",
    "version": 3
   },
   "file_extension": ".py",
   "mimetype": "text/x-python",
   "name": "python",
   "nbconvert_exporter": "python",
   "pygments_lexer": "ipython3",
   "version": "3.9.6"
  }
 },
 "nbformat": 4,
 "nbformat_minor": 5
}
